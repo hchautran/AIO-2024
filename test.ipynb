{
 "cells": [
  {
   "cell_type": "code",
   "execution_count": 1,
   "metadata": {},
   "outputs": [
    {
     "data": {
      "text/plain": [
       "tensor([0.0900, 0.2447, 0.6652])"
      ]
     },
     "execution_count": 1,
     "metadata": {},
     "output_type": "execute_result"
    }
   ],
   "source": [
    "import torch\n",
    "\n",
    "from week3.ex1 import Softmax \n",
    "from week3.ex2 import Student, Teacher, Doctor, Ward \n",
    "from week3.ex3 import Stack as MyStack \n",
    "from week3.ex4 import Queue as MyQueue \n",
    "\n",
    "\n",
    "data = torch.tensor ([1 , 2 , 3])\n",
    "softmax = Softmax(stable=True) \n",
    "softmax(data)"
   ]
  },
  {
   "cell_type": "code",
   "execution_count": 2,
   "metadata": {},
   "outputs": [
    {
     "name": "stdout",
     "output_type": "stream",
     "text": [
      "Student - Name:  studentA  - YoB: 2010 - Grade: 7\n",
      "Teacher - Name: f teacherA  - YoB: 1969 - Subject:  Math \n",
      "Doctor - Name : f doctorA  - YoB : 1945 - Grade :  Endocrinologists \n"
     ]
    }
   ],
   "source": [
    "student1 = Student ( name =\" studentA \", yob =2010 , grade =\"7\")\n",
    "student1.describe()\n",
    "teacher1 = Teacher ( name =\" teacherA \", yob =1969 , subject =\" Math \")\n",
    "teacher1.describe()\n",
    "doctor1 = Doctor( name =\" doctorA \", yob =1945 , specialist =\" Endocrinologists \")\n",
    "doctor1.describe()"
   ]
  },
  {
   "cell_type": "code",
   "execution_count": 3,
   "metadata": {},
   "outputs": [],
   "source": [
    "teacher2 = Teacher ( name =\" teacherB \", yob =1995 , subject =\" History \")\n",
    "doctor2 = Doctor ( name =\" doctorB \", yob =1975 , specialist =\" Cardiologists \")\n",
    "\n",
    "ward1 = Ward ( name =\" Ward1 \")\n",
    "ward1.add_person(student1)\n",
    "ward1.add_person(teacher1)\n",
    "ward1.add_person(teacher2)\n",
    "ward1.add_person(doctor1)\n",
    "ward1.add_person(doctor2)"
   ]
  },
  {
   "cell_type": "code",
   "execution_count": 4,
   "metadata": {},
   "outputs": [
    {
     "name": "stdout",
     "output_type": "stream",
     "text": [
      "Ward Name :  Ward1 \n",
      "Student - Name:  studentA  - YoB: 2010 - Grade: 7\n",
      "Teacher - Name: f teacherA  - YoB: 1969 - Subject:  Math \n",
      "Teacher - Name: f teacherB  - YoB: 1995 - Subject:  History \n",
      "Doctor - Name : f doctorA  - YoB : 1945 - Grade :  Endocrinologists \n",
      "Doctor - Name : f doctorB  - YoB : 1975 - Grade :  Cardiologists \n"
     ]
    }
   ],
   "source": [
    "ward1.describe()"
   ]
  },
  {
   "cell_type": "code",
   "execution_count": 5,
   "metadata": {},
   "outputs": [
    {
     "name": "stdout",
     "output_type": "stream",
     "text": [
      "2\n",
      "1979.0\n"
     ]
    }
   ],
   "source": [
    "print(ward1.count_doctor())\n",
    "print(ward1.compute_average())"
   ]
  },
  {
   "cell_type": "code",
   "execution_count": 6,
   "metadata": {},
   "outputs": [
    {
     "name": "stdout",
     "output_type": "stream",
     "text": [
      "Ward Name :  Ward1 \n",
      "Student - Name:  studentA  - YoB: 2010 - Grade: 7\n",
      "Teacher - Name: f teacherB  - YoB: 1995 - Subject:  History \n",
      "Doctor - Name : f doctorB  - YoB : 1975 - Grade :  Cardiologists \n",
      "Teacher - Name: f teacherA  - YoB: 1969 - Subject:  Math \n",
      "Doctor - Name : f doctorA  - YoB : 1945 - Grade :  Endocrinologists \n"
     ]
    }
   ],
   "source": [
    "ward1.sort_age()\n",
    "ward1.describe()"
   ]
  },
  {
   "cell_type": "code",
   "execution_count": 7,
   "metadata": {},
   "outputs": [
    {
     "name": "stdout",
     "output_type": "stream",
     "text": [
      "False\n",
      "2\n",
      "2\n",
      "1\n",
      "1\n",
      "False\n"
     ]
    }
   ],
   "source": [
    "stack1 = MyStack(capacity =5)\n",
    "stack1.push(1)\n",
    "stack1.push(2)\n",
    "print(stack1.is_full())\n",
    "print(stack1.top())\n",
    "print(stack1.pop())\n",
    "print(stack1.top())\n",
    "print(stack1.top())\n",
    "print(stack1.is_empty())\n"
   ]
  },
  {
   "cell_type": "code",
   "execution_count": 1,
   "metadata": {},
   "outputs": [
    {
     "ename": "NameError",
     "evalue": "name 'MyQueue' is not defined",
     "output_type": "error",
     "traceback": [
      "\u001b[0;31m---------------------------------------------------------------------------\u001b[0m",
      "\u001b[0;31mNameError\u001b[0m                                 Traceback (most recent call last)",
      "Cell \u001b[0;32mIn[1], line 1\u001b[0m\n\u001b[0;32m----> 1\u001b[0m queue1 \u001b[38;5;241m=\u001b[39m \u001b[43mMyQueue\u001b[49m ( capacity \u001b[38;5;241m=\u001b[39m\u001b[38;5;241m5\u001b[39m)\n\u001b[1;32m      2\u001b[0m queue1 \u001b[38;5;241m.\u001b[39m enqueue (\u001b[38;5;241m1\u001b[39m)\n\u001b[1;32m      3\u001b[0m queue1 \u001b[38;5;241m.\u001b[39m enqueue (\u001b[38;5;241m2\u001b[39m)\n",
      "\u001b[0;31mNameError\u001b[0m: name 'MyQueue' is not defined"
     ]
    }
   ],
   "source": [
    "queue1 = MyQueue ( capacity =5)\n",
    "queue1.enqueue(1)\n",
    "queue1.enqueue(2)\n",
    "print(queue1.is_full())\n",
    "print(queue1.front())\n",
    "print(queue1.dequeue())\n",
    "print(queue1.front())\n",
    "print(queue1.dequeue())\n",
    "print(queue1.is_empty())"
   ]
  },
  {
   "cell_type": "code",
   "execution_count": null,
   "metadata": {},
   "outputs": [],
   "source": []
  }
 ],
 "metadata": {
  "kernelspec": {
   "display_name": "Python 3 (ipykernel)",
   "language": "python",
   "name": "python3"
  },
  "language_info": {
   "codemirror_mode": {
    "name": "ipython",
    "version": 3
   },
   "file_extension": ".py",
   "mimetype": "text/x-python",
   "name": "python",
   "nbconvert_exporter": "python",
   "pygments_lexer": "ipython3",
   "version": "3.11.4"
  }
 },
 "nbformat": 4,
 "nbformat_minor": 2
}
