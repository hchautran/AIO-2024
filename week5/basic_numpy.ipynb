{
 "cells": [
  {
   "cell_type": "code",
   "execution_count": 2,
   "metadata": {},
   "outputs": [],
   "source": [
    "import numpy as np"
   ]
  },
  {
   "cell_type": "markdown",
   "metadata": {},
   "source": [
    "### EX1: `np.arange`"
   ]
  },
  {
   "cell_type": "code",
   "execution_count": 6,
   "metadata": {},
   "outputs": [
    {
     "data": {
      "text/plain": [
       "array([0, 1, 2, 3, 4, 5, 6, 7, 8, 9])"
      ]
     },
     "execution_count": 6,
     "metadata": {},
     "output_type": "execute_result"
    }
   ],
   "source": [
    "arr = np.arange(0, 10, 1)\n",
    "arr # A"
   ]
  },
  {
   "cell_type": "markdown",
   "metadata": {},
   "source": [
    "### EX2: `np.full`"
   ]
  },
  {
   "cell_type": "code",
   "execution_count": 7,
   "metadata": {},
   "outputs": [
    {
     "data": {
      "text/plain": [
       "array([[ True,  True,  True],\n",
       "       [ True,  True,  True],\n",
       "       [ True,  True,  True]])"
      ]
     },
     "execution_count": 7,
     "metadata": {},
     "output_type": "execute_result"
    }
   ],
   "source": [
    "arr = np.full((3,3), fill_value=True, dtype=bool)\n",
    "arr #C"
   ]
  },
  {
   "cell_type": "markdown",
   "metadata": {},
   "source": [
    "### EX3: Conditional access"
   ]
  },
  {
   "cell_type": "code",
   "execution_count": 8,
   "metadata": {},
   "outputs": [
    {
     "name": "stdout",
     "output_type": "stream",
     "text": [
      "[1 3 5 7 9]\n"
     ]
    }
   ],
   "source": [
    "arr = np.arange(0,10)\n",
    "print(arr[arr % 2 == 1]) #A"
   ]
  },
  {
   "cell_type": "markdown",
   "metadata": {},
   "source": [
    "### EX4: Conditional assign"
   ]
  },
  {
   "cell_type": "code",
   "execution_count": 9,
   "metadata": {},
   "outputs": [
    {
     "name": "stdout",
     "output_type": "stream",
     "text": [
      "[ 0 -1  2 -1  4 -1  6 -1  8 -1]\n"
     ]
    }
   ],
   "source": [
    "arr = np.arange(0, 10)\n",
    "arr[arr % 2 == 1] = -1\n",
    "print(arr) #B"
   ]
  },
  {
   "cell_type": "markdown",
   "metadata": {},
   "source": [
    "### EX5: `np.reshape`"
   ]
  },
  {
   "cell_type": "code",
   "execution_count": 10,
   "metadata": {},
   "outputs": [
    {
     "name": "stdout",
     "output_type": "stream",
     "text": [
      "[[0 1 2 3 4]\n",
      " [5 6 7 8 9]]\n"
     ]
    }
   ],
   "source": [
    "arr = np.arange(10)\n",
    "arr_2d = arr.reshape(2, -1)\n",
    "print(arr_2d) #D"
   ]
  },
  {
   "cell_type": "markdown",
   "metadata": {},
   "source": [
    "### EX6 & EX7: `np.repeat` and `np.concat`"
   ]
  },
  {
   "cell_type": "code",
   "execution_count": 17,
   "metadata": {},
   "outputs": [
    {
     "name": "stdout",
     "output_type": "stream",
     "text": [
      "arr1 [[0 1 2 3 4]\n",
      " [5 6 7 8 9]]\n",
      "arr2 [[1 1 1 1 1]\n",
      " [1 1 1 1 1]]\n",
      "Result of concatenation along axis 0:\n",
      " [[0 1 2 3 4]\n",
      " [5 6 7 8 9]\n",
      " [1 1 1 1 1]\n",
      " [1 1 1 1 1]]\n",
      "Result of concatenation along axis 1:\n",
      " [[0 1 2 3 4 1 1 1 1 1]\n",
      " [5 6 7 8 9 1 1 1 1 1]]\n"
     ]
    }
   ],
   "source": [
    "arr1 = np.arange(10).reshape(2,-1)\n",
    "print('arr1',arr1)\n",
    "arr2 = np.repeat(1, 10).reshape(2,-1)\n",
    "print('arr2',arr2)\n",
    "c6= np.concatenate([arr1, arr2], axis=0)  # axis=0 is vertical\n",
    "c7= np.concatenate([arr1, arr2], axis=1)  # axis=0 is vertical\n",
    "print(\"Result of concatenation along axis 0:\\n\", c6) #A\n",
    "print(\"Result of concatenation along axis 1:\\n\", c7) #C\n",
    "#A"
   ]
  },
  {
   "cell_type": "markdown",
   "metadata": {},
   "source": [
    "### Ex8: `np.tile` and `np.repeat`"
   ]
  },
  {
   "cell_type": "code",
   "execution_count": 20,
   "metadata": {},
   "outputs": [
    {
     "name": "stdout",
     "output_type": "stream",
     "text": [
      "[1 1 1 1 2 2 2 2 3 3 3 3]\n",
      "[1 2 3 1 2 3 1 2 3 1 2 3]\n"
     ]
    }
   ],
   "source": [
    "arr = np.array([1,2,3])\n",
    "print(np.repeat(arr, 4)) \n",
    "print(np.tile(arr, 4)) \n",
    "#A"
   ]
  },
  {
   "cell_type": "markdown",
   "metadata": {},
   "source": [
    "### EX9: `np.where`"
   ]
  },
  {
   "cell_type": "code",
   "execution_count": 21,
   "metadata": {},
   "outputs": [
    {
     "name": "stdout",
     "output_type": "stream",
     "text": [
      "result [ 6  9 10]\n"
     ]
    }
   ],
   "source": [
    "\n",
    "a = np.array([2,6,1,9,10,3,27])\n",
    "index = np.where((a >= 5) & (a <= 10))\n",
    "print('result', a[index]) #C"
   ]
  },
  {
   "cell_type": "markdown",
   "metadata": {},
   "source": [
    "### EX10: `np.vectorize`"
   ]
  },
  {
   "cell_type": "code",
   "execution_count": 22,
   "metadata": {},
   "outputs": [
    {
     "name": "stdout",
     "output_type": "stream",
     "text": [
      "[6. 7. 9. 8. 9. 7. 5.]\n"
     ]
    }
   ],
   "source": [
    "def max(x,y):\n",
    "   if x >= y:\n",
    "      return x\n",
    "   else:\n",
    "      return y\n",
    "   \n",
    "a = np.array([5, 7, 9, 8, 6, 4, 5])\n",
    "b = np.array([6, 3, 4, 8, 9, 7, 1])\n",
    "\n",
    "pair_max = np.vectorize(max, otypes=[float]) \n",
    "print(pair_max(a, b)) "
   ]
  },
  {
   "cell_type": "markdown",
   "metadata": {},
   "source": [
    "### EX 11: `np.where`"
   ]
  },
  {
   "cell_type": "code",
   "execution_count": 23,
   "metadata": {},
   "outputs": [
    {
     "name": "stdout",
     "output_type": "stream",
     "text": [
      "Result:  [6 7 9 8 9 7 5]\n"
     ]
    }
   ],
   "source": [
    "a = np.array ([5 ,7 ,9 ,8 ,6 ,4 ,5])\n",
    "b = np.array ([6 ,3 ,4 ,8 ,9 ,7 ,1])\n",
    "\n",
    "print (\"Result: \", np.where(a<b , b, a) )"
   ]
  },
  {
   "cell_type": "code",
   "execution_count": null,
   "metadata": {},
   "outputs": [],
   "source": []
  }
 ],
 "metadata": {
  "kernelspec": {
   "display_name": "Python 3",
   "language": "python",
   "name": "python3"
  },
  "language_info": {
   "codemirror_mode": {
    "name": "ipython",
    "version": 3
   },
   "file_extension": ".py",
   "mimetype": "text/x-python",
   "name": "python",
   "nbconvert_exporter": "python",
   "pygments_lexer": "ipython3",
   "version": "3.11.7"
  }
 },
 "nbformat": 4,
 "nbformat_minor": 2
}
