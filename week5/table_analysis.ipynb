{
 "cells": [
  {
   "cell_type": "code",
   "execution_count": 2,
   "metadata": {},
   "outputs": [
    {
     "name": "stdout",
     "output_type": "stream",
     "text": [
      "Downloading...\n",
      "From: https://drive.google.com/uc?id=1iA0WmVfW88HyJvTBSQDI5vesf-pgKabq\n",
      "To: /Users/admin/AIO-2024/week5/advertising.csv\n",
      "100%|██████████████████████████████████████| 4.06k/4.06k [00:00<00:00, 8.14MB/s]\n"
     ]
    }
   ],
   "source": [
    "! gdown 1iA0WmVfW88HyJvTBSQDI5vesf-pgKabq"
   ]
  },
  {
   "cell_type": "code",
   "execution_count": 3,
   "metadata": {},
   "outputs": [],
   "source": [
    "import pandas as pd\n",
    "import numpy as np\n",
    "df = pd.read_csv ('advertising.csv')\n",
    "data = df.to_numpy()"
   ]
  },
  {
   "cell_type": "code",
   "execution_count": 4,
   "metadata": {},
   "outputs": [
    {
     "data": {
      "text/html": [
       "<div>\n",
       "<style scoped>\n",
       "    .dataframe tbody tr th:only-of-type {\n",
       "        vertical-align: middle;\n",
       "    }\n",
       "\n",
       "    .dataframe tbody tr th {\n",
       "        vertical-align: top;\n",
       "    }\n",
       "\n",
       "    .dataframe thead th {\n",
       "        text-align: right;\n",
       "    }\n",
       "</style>\n",
       "<table border=\"1\" class=\"dataframe\">\n",
       "  <thead>\n",
       "    <tr style=\"text-align: right;\">\n",
       "      <th></th>\n",
       "      <th>TV</th>\n",
       "      <th>Radio</th>\n",
       "      <th>Newspaper</th>\n",
       "      <th>Sales</th>\n",
       "    </tr>\n",
       "  </thead>\n",
       "  <tbody>\n",
       "    <tr>\n",
       "      <th>0</th>\n",
       "      <td>230.1</td>\n",
       "      <td>37.8</td>\n",
       "      <td>69.2</td>\n",
       "      <td>22.1</td>\n",
       "    </tr>\n",
       "    <tr>\n",
       "      <th>1</th>\n",
       "      <td>44.5</td>\n",
       "      <td>39.3</td>\n",
       "      <td>45.1</td>\n",
       "      <td>10.4</td>\n",
       "    </tr>\n",
       "    <tr>\n",
       "      <th>2</th>\n",
       "      <td>17.2</td>\n",
       "      <td>45.9</td>\n",
       "      <td>69.3</td>\n",
       "      <td>12.0</td>\n",
       "    </tr>\n",
       "    <tr>\n",
       "      <th>3</th>\n",
       "      <td>151.5</td>\n",
       "      <td>41.3</td>\n",
       "      <td>58.5</td>\n",
       "      <td>16.5</td>\n",
       "    </tr>\n",
       "    <tr>\n",
       "      <th>4</th>\n",
       "      <td>180.8</td>\n",
       "      <td>10.8</td>\n",
       "      <td>58.4</td>\n",
       "      <td>17.9</td>\n",
       "    </tr>\n",
       "    <tr>\n",
       "      <th>...</th>\n",
       "      <td>...</td>\n",
       "      <td>...</td>\n",
       "      <td>...</td>\n",
       "      <td>...</td>\n",
       "    </tr>\n",
       "    <tr>\n",
       "      <th>195</th>\n",
       "      <td>38.2</td>\n",
       "      <td>3.7</td>\n",
       "      <td>13.8</td>\n",
       "      <td>7.6</td>\n",
       "    </tr>\n",
       "    <tr>\n",
       "      <th>196</th>\n",
       "      <td>94.2</td>\n",
       "      <td>4.9</td>\n",
       "      <td>8.1</td>\n",
       "      <td>14.0</td>\n",
       "    </tr>\n",
       "    <tr>\n",
       "      <th>197</th>\n",
       "      <td>177.0</td>\n",
       "      <td>9.3</td>\n",
       "      <td>6.4</td>\n",
       "      <td>14.8</td>\n",
       "    </tr>\n",
       "    <tr>\n",
       "      <th>198</th>\n",
       "      <td>283.6</td>\n",
       "      <td>42.0</td>\n",
       "      <td>66.2</td>\n",
       "      <td>25.5</td>\n",
       "    </tr>\n",
       "    <tr>\n",
       "      <th>199</th>\n",
       "      <td>232.1</td>\n",
       "      <td>8.6</td>\n",
       "      <td>8.7</td>\n",
       "      <td>18.4</td>\n",
       "    </tr>\n",
       "  </tbody>\n",
       "</table>\n",
       "<p>200 rows × 4 columns</p>\n",
       "</div>"
      ],
      "text/plain": [
       "        TV  Radio  Newspaper  Sales\n",
       "0    230.1   37.8       69.2   22.1\n",
       "1     44.5   39.3       45.1   10.4\n",
       "2     17.2   45.9       69.3   12.0\n",
       "3    151.5   41.3       58.5   16.5\n",
       "4    180.8   10.8       58.4   17.9\n",
       "..     ...    ...        ...    ...\n",
       "195   38.2    3.7       13.8    7.6\n",
       "196   94.2    4.9        8.1   14.0\n",
       "197  177.0    9.3        6.4   14.8\n",
       "198  283.6   42.0       66.2   25.5\n",
       "199  232.1    8.6        8.7   18.4\n",
       "\n",
       "[200 rows x 4 columns]"
      ]
     },
     "execution_count": 4,
     "metadata": {},
     "output_type": "execute_result"
    }
   ],
   "source": [
    "df "
   ]
  },
  {
   "cell_type": "markdown",
   "metadata": {},
   "source": [
    "Ex15: `np.max` and `np.argmax`"
   ]
  },
  {
   "cell_type": "code",
   "execution_count": 5,
   "metadata": {},
   "outputs": [
    {
     "name": "stdout",
     "output_type": "stream",
     "text": [
      "Max: 27.0 - Index: 175\n"
     ]
    }
   ],
   "source": [
    "# max value of sale col\n",
    "print(f'Max: {data.max(axis=0)[-1]} - Index: {data.argmax(axis=0)[-1]}')"
   ]
  },
  {
   "cell_type": "markdown",
   "metadata": {},
   "source": [
    "Ex16: `np.mean` "
   ]
  },
  {
   "cell_type": "code",
   "execution_count": 6,
   "metadata": {},
   "outputs": [
    {
     "data": {
      "text/plain": [
       "147.0425"
      ]
     },
     "execution_count": 6,
     "metadata": {},
     "output_type": "execute_result"
    }
   ],
   "source": [
    "# mean value of TV col\n",
    "data.mean(axis=0)[0]"
   ]
  },
  {
   "cell_type": "markdown",
   "metadata": {},
   "source": [
    "Ex17: `np.count_nonzero` "
   ]
  },
  {
   "cell_type": "code",
   "execution_count": 7,
   "metadata": {},
   "outputs": [
    {
     "name": "stdout",
     "output_type": "stream",
     "text": [
      "Number of rows with sales >= 20: 40\n"
     ]
    }
   ],
   "source": [
    "# number of rows with sales > 20\n",
    "\n",
    "condition = data[:, -1] >= 20 \n",
    "count = np.count_nonzero(condition)\n",
    "print(f'Number of rows with sales >= 20: {count}')"
   ]
  },
  {
   "cell_type": "markdown",
   "metadata": {},
   "source": [
    "Ex18 and Ex19: Apply Boolean Indexing"
   ]
  },
  {
   "cell_type": "code",
   "execution_count": 8,
   "metadata": {},
   "outputs": [
    {
     "data": {
      "text/plain": [
       "1405.1000000000004"
      ]
     },
     "execution_count": 8,
     "metadata": {},
     "output_type": "execute_result"
    }
   ],
   "source": [
    "# mean value of ratio for rows with sale >= 15\n",
    "condition = data[:, -1] >= 15 \n",
    "selected_row = data[condition]\n",
    "selected_row.mean(axis=0)[1]\n",
    "\n",
    "\n",
    "# sum of sales for rows with newspaper >= mean value of newspaper \n",
    "newspaper_mean = data.mean(axis=0)[2] \n",
    "condition = data[:, 2] >= newspaper_mean \n",
    "selected_row = data[condition]\n",
    "selected_row.sum(axis=0)[-1]\n"
   ]
  },
  {
   "cell_type": "markdown",
   "metadata": {},
   "source": [
    "Ex20 and Ex21: Conbine condition and `np.vectorized`"
   ]
  },
  {
   "cell_type": "code",
   "execution_count": 19,
   "metadata": {},
   "outputs": [
    {
     "name": "stdout",
     "output_type": "stream",
     "text": [
      "['Bad' 'Bad' 'Good']\n",
      "15.2\n",
      "15.2\n",
      "15.2\n",
      "15.2\n",
      "15.2\n",
      "15.2\n",
      "15.2\n",
      "15.2\n",
      "15.2\n",
      "15.2\n",
      "15.2\n",
      "15.2\n",
      "15.2\n",
      "15.2\n",
      "15.2\n",
      "15.2\n",
      "15.2\n",
      "15.2\n",
      "15.2\n",
      "15.2\n",
      "15.2\n",
      "15.2\n",
      "15.2\n",
      "15.2\n",
      "15.2\n",
      "15.2\n",
      "15.2\n",
      "15.2\n",
      "15.2\n",
      "15.2\n",
      "15.2\n",
      "15.2\n",
      "15.2\n",
      "15.2\n",
      "15.2\n",
      "15.2\n",
      "15.2\n",
      "15.2\n",
      "15.2\n",
      "15.2\n",
      "15.2\n",
      "15.2\n",
      "15.2\n",
      "15.2\n",
      "15.2\n",
      "15.2\n",
      "15.2\n",
      "15.2\n",
      "15.2\n",
      "15.2\n",
      "15.2\n",
      "15.2\n",
      "15.2\n",
      "15.2\n",
      "15.2\n",
      "15.2\n",
      "15.2\n",
      "15.2\n",
      "15.2\n",
      "15.2\n",
      "15.2\n",
      "15.2\n",
      "15.2\n",
      "15.2\n",
      "15.2\n",
      "15.2\n",
      "15.2\n",
      "15.2\n",
      "15.2\n",
      "15.2\n",
      "15.2\n",
      "15.2\n",
      "15.2\n",
      "15.2\n",
      "15.2\n",
      "15.2\n",
      "15.2\n",
      "15.2\n",
      "15.2\n",
      "15.2\n",
      "15.2\n",
      "15.2\n",
      "15.2\n",
      "15.2\n",
      "15.2\n",
      "15.2\n",
      "15.2\n",
      "15.2\n",
      "15.2\n",
      "15.2\n",
      "15.2\n",
      "15.2\n",
      "15.2\n",
      "15.2\n",
      "15.2\n",
      "15.2\n",
      "15.2\n",
      "15.2\n",
      "15.2\n",
      "15.2\n",
      "15.2\n",
      "15.2\n",
      "15.2\n",
      "15.2\n",
      "15.2\n",
      "15.2\n",
      "15.2\n",
      "15.2\n",
      "15.2\n",
      "15.2\n",
      "15.2\n",
      "15.2\n",
      "15.2\n",
      "15.2\n",
      "15.2\n",
      "15.2\n",
      "15.2\n",
      "15.2\n",
      "15.2\n",
      "15.2\n",
      "15.2\n",
      "15.2\n",
      "15.2\n",
      "15.2\n",
      "15.2\n",
      "15.2\n",
      "15.2\n",
      "15.2\n",
      "15.2\n",
      "15.2\n",
      "15.2\n",
      "15.2\n",
      "15.2\n",
      "15.2\n",
      "15.2\n",
      "15.2\n",
      "15.2\n",
      "15.2\n",
      "15.2\n",
      "15.2\n",
      "15.2\n",
      "15.2\n",
      "15.2\n",
      "15.2\n",
      "15.2\n",
      "15.2\n",
      "15.2\n",
      "15.2\n",
      "15.2\n",
      "15.2\n",
      "15.2\n",
      "15.2\n",
      "15.2\n",
      "15.2\n",
      "15.2\n",
      "15.2\n",
      "15.2\n",
      "15.2\n",
      "15.2\n",
      "15.2\n",
      "15.2\n",
      "15.2\n",
      "15.2\n",
      "15.2\n",
      "15.2\n",
      "15.2\n",
      "15.2\n",
      "15.2\n",
      "15.2\n",
      "15.2\n",
      "15.2\n",
      "15.2\n",
      "15.2\n",
      "15.2\n",
      "15.2\n",
      "15.2\n",
      "15.2\n",
      "15.2\n",
      "15.2\n",
      "15.2\n",
      "15.2\n",
      "15.2\n",
      "15.2\n",
      "15.2\n",
      "15.2\n",
      "15.2\n",
      "15.2\n",
      "15.2\n",
      "15.2\n",
      "15.2\n",
      "15.2\n",
      "15.2\n",
      "15.2\n",
      "15.2\n",
      "15.2\n",
      "15.2\n",
      "15.2\n",
      "15.2\n",
      "15.2\n",
      "15.2\n",
      "['Bad' 'Bad' 'Good']\n"
     ]
    }
   ],
   "source": [
    "#Ex20\n",
    "\n",
    "def rating_avg(value):\n",
    "   sale_mean = data.mean(axis=0)[-1]\n",
    "   if sale_mean > value:\n",
    "      return 'Bad' \n",
    "   elif sale_mean == value:\n",
    "      return 'Average' \n",
    "   else:\n",
    "      return 'Good' \n",
    "\n",
    "vectorized_rating = np.vectorize(rating_avg, otypes=[str]) \n",
    "print(vectorized_rating(data[:, -1])[7:10])\n",
    "\n",
    "\n",
    "def rating_closest(value):\n",
    "   sale_mean = data[:,-1].mean(axis=0)\n",
    "   differences = np.abs(sale_mean - data[:,-1]) \n",
    "   idx = np.argmin(differences)\n",
    "   closest = data[idx, -1]\n",
    "   if closest > value:\n",
    "      return 'Bad' \n",
    "   elif closest == value:\n",
    "      return 'Average' \n",
    "   else:\n",
    "      return 'Good' \n",
    "\n",
    "vectorized_rating = np.vectorize(rating_closest, otypes=[str]) \n",
    "print(vectorized_rating(data[:, -1])[7:10])\n"
   ]
  },
  {
   "cell_type": "markdown",
   "metadata": {},
   "source": []
  },
  {
   "cell_type": "code",
   "execution_count": null,
   "metadata": {},
   "outputs": [],
   "source": []
  }
 ],
 "metadata": {
  "kernelspec": {
   "display_name": "base",
   "language": "python",
   "name": "python3"
  },
  "language_info": {
   "codemirror_mode": {
    "name": "ipython",
    "version": 3
   },
   "file_extension": ".py",
   "mimetype": "text/x-python",
   "name": "python",
   "nbconvert_exporter": "python",
   "pygments_lexer": "ipython3",
   "version": "3.11.7"
  }
 },
 "nbformat": 4,
 "nbformat_minor": 2
}
